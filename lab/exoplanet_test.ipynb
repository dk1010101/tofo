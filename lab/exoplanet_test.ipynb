{
 "cells": [
  {
   "cell_type": "code",
   "execution_count": 52,
   "metadata": {},
   "outputs": [],
   "source": [
    "import copy\n",
    "import requests\n",
    "import time as old_time\n",
    "from dateutil.parser import parse as date_parse \n",
    "import numpy as np\n",
    "import pandas as pd\n",
    "import csv\n",
    "from pathlib import Path\n",
    "import urllib\n",
    "import json\n",
    "import pytz\n",
    "from typing import NamedTuple\n",
    "from io import StringIO\n",
    "from yaml import load\n",
    "try:\n",
    "    from yaml import CLoader as Loader\n",
    "except ImportError:\n",
    "    from yaml import Loader\n",
    "\n",
    "from astropy.coordinates import EarthLocation\n",
    "from astroplan import Observer, AtNightConstraint\n",
    "import astropy.units as u\n",
    "from astropy.coordinates import SkyCoord, Angle\n",
    "from astropy.time import Time\n",
    "from astroplan import FixedTarget, EclipsingSystem, LocalTimeConstraint, is_event_observable, is_always_observable, AltitudeConstraint\n",
    "from scipy.interpolate import RegularGridInterpolator\n",
    "\n",
    "from astroplan import Constraint\n",
    "from astroplan.constraints import _get_altaz\n",
    "\n",
    "pd.set_option('display.max_columns', None)\n",
    "pd.set_option('display.max_rows', None)"
   ]
  },
  {
   "cell_type": "markdown",
   "metadata": {},
   "source": [
    "Load Exoclock datafile - do this once and then use the locally picked version"
   ]
  },
  {
   "cell_type": "code",
   "execution_count": 4,
   "metadata": {},
   "outputs": [],
   "source": [
    "js = urllib.request.urlopen('https://www.exoclock.space/database/planets_json').read().decode()\n",
    "exoclock_t = pd.read_json(StringIO(js))\n",
    "exoclock = exoclock_t.transpose()\n",
    "exoclock.to_pickle(\"exoclock.pickle\")"
   ]
  },
  {
   "cell_type": "markdown",
   "metadata": {},
   "source": [
    "If you have the picked exoclock data execute this instead"
   ]
  },
  {
   "cell_type": "code",
   "execution_count": 5,
   "metadata": {},
   "outputs": [],
   "source": [
    "exoclock = pd.read_pickle(\"exoclock.pickle\")"
   ]
  },
  {
   "cell_type": "markdown",
   "metadata": {},
   "source": [
    "Set up the observatory and the telescope"
   ]
  },
  {
   "cell_type": "code",
   "execution_count": 8,
   "metadata": {},
   "outputs": [],
   "source": [
    "class Telescope(NamedTuple):\n",
    "    fl_mm: float\n",
    "    aper_mm: float\n",
    "location = EarthLocation.from_geodetic(lon=-116.865*u.deg, lat=33.3564*u.deg, height=1712*u.m)\n",
    "observer = Observer(location=location, name=\"Palomar\", timezone=\"US/Pacific\", \n",
    "                   temperature=12*u.deg_C, pressure=985.0*u.hPa, relative_humidity=.18)\n",
    "telescope = Telescope(fl_mm=16750, aper_mm=5100)  # yeah, a monster"
   ]
  },
  {
   "cell_type": "markdown",
   "metadata": {},
   "source": [
    "Some useful time and unit functions"
   ]
  },
  {
   "cell_type": "code",
   "execution_count": 144,
   "metadata": {},
   "outputs": [],
   "source": [
    "def to_utc(observer: Observer, dt: Time, location: EarthLocation) -> Time:\n",
    "    tz = observer.timezone\n",
    "    ndt = tz.normalize(tz.localize(dt.to_datetime())).astimezone(pytz.utc)\n",
    "    return Time(ndt, location=location)\n",
    "\n",
    "def to_local(observer: Observer, dt: Time, location: EarthLocation) -> Time:\n",
    "    tzutc = pytz.utc\n",
    "    ndt = tzutc.localize(dt.to_datetime())\n",
    "    lt = ndt.astimezone(observer.timezone)\n",
    "    return Time(lt.replace(tzinfo=None), location=location)\n",
    "\n",
    "def exou_to_u(exo_unit: str) -> u.Unit:\n",
    "    if exo_unit == \"Days\":\n",
    "        return u.day\n",
    "    elif exo_unit == \"Hours\":\n",
    "        return u.hour\n",
    "    elif exo_unit == \"Seconds\":\n",
    "        return u.second\n",
    "    elif exo_unit == \"Degrees\":\n",
    "        return u.deg\n",
    "    elif exo_unit == \"Radians\":\n",
    "        return u.rad\n",
    "    else:\n",
    "        raise ValueError(f\"Unsupported unit: {exo_unit}\")\n",
    "    \n",
    "def exou_tf_to_u(time_string: str, format: str, location: EarthLocation) -> Time:\n",
    "    format, scale = format.split(\"_\")\n",
    "    if format == \"BJD\" or format == \"JD\":\n",
    "        f = \"jd\"\n",
    "    elif format == \"MJD\":\n",
    "        f = \"mjd\"\n",
    "    else:\n",
    "        raise ValueError(f\"Unknown time format: {format}\")\n",
    "    s = scale.lower()\n",
    "    if s == 'local':\n",
    "        s = 'Local'\n",
    "    return Time(time_string, format=f, scale=s, location=location)"
   ]
  },
  {
   "cell_type": "code",
   "execution_count": 142,
   "metadata": {},
   "outputs": [
    {
     "name": "stdout",
     "output_type": "stream",
     "text": [
      "2025-01-01 10:11:12.000\n",
      "2025-01-01 18:11:12.000\n",
      "2025-01-01 10:11:12.000\n"
     ]
    }
   ],
   "source": [
    "t = Time(\"2025-01-01 10:11:12\", location=location)\n",
    "print(t.iso)\n",
    "ut = to_utc(observer, t)\n",
    "print(ut.iso)\n",
    "lt = to_local(observer, ut)\n",
    "print(lt.iso)"
   ]
  },
  {
   "cell_type": "markdown",
   "metadata": {},
   "source": [
    "Observation date/time (_in local time_) which will then be converted to UTC"
   ]
  },
  {
   "cell_type": "code",
   "execution_count": 146,
   "metadata": {},
   "outputs": [],
   "source": [
    "start_time = to_utc(observer, Time(\"2025-01-01T16:00:00.0\", location=location), location)\n",
    "end_time = to_utc(observer, Time(\"2025-01-02T07:00:00.0\", location=location), location)"
   ]
  },
  {
   "cell_type": "markdown",
   "metadata": {},
   "source": [
    "Filter off all exoclock targets based on telescope aperture"
   ]
  },
  {
   "cell_type": "code",
   "execution_count": 147,
   "metadata": {},
   "outputs": [],
   "source": [
    "possible_targets = exoclock[exoclock['min_telescope_inches'] <= (telescope.aper_mm*u.mm).to(u.imperial.inch).value]"
   ]
  },
  {
   "cell_type": "code",
   "execution_count": 187,
   "metadata": {},
   "outputs": [
    {
     "data": {
      "text/plain": [
       "array(['BJD_TDB'], dtype=object)"
      ]
     },
     "execution_count": 187,
     "metadata": {},
     "output_type": "execute_result"
    }
   ],
   "source": [
    "possible_targets['ephem_mid_time_format'].unique()"
   ]
  },
  {
   "cell_type": "markdown",
   "metadata": {},
   "source": [
    "Create eclipsing system for each possible target and then get the list of transits that will happen between start and end times"
   ]
  },
  {
   "cell_type": "code",
   "execution_count": 150,
   "metadata": {},
   "outputs": [],
   "source": [
    "eclipsing_systems = [\n",
    "    (\n",
    "        EclipsingSystem(primary_eclipse_time=exou_tf_to_u(row['ephem_mid_time'], row['ephem_mid_time_format'], location),\n",
    "                        orbital_period=row['ephem_period'] * exou_to_u(row['ephem_period_units']),\n",
    "                        duration=row['duration_hours'] * u.hour,\n",
    "                        name=row['name'],\n",
    "                        eccentricity=row['eccentricity'],\n",
    "                        argument_of_periapsis=row['periastron'] * exou_to_u(row['periastron_units'])),\n",
    "        FixedTarget(SkyCoord(f\"{row['ra_j2000']} {row['dec_j2000']}\", unit=(u.hourangle, u.deg)))\n",
    "    )\n",
    "    for _, row \n",
    "    in possible_targets.iterrows()\n",
    "    ]\n"
   ]
  },
  {
   "cell_type": "code",
   "execution_count": 151,
   "metadata": {},
   "outputs": [],
   "source": [
    "transits = [\n",
    "    es.next_primary_eclipse_time(start_time, n_eclipses=np.ceil(((end_time-start_time)/es.period).value))\n",
    "    for es, _\n",
    "    in eclipsing_systems\n",
    "]\n"
   ]
  },
  {
   "cell_type": "markdown",
   "metadata": {},
   "source": [
    "Now create constraints for visibility\n",
    "\n",
    "We will start with only using horizon > 20 deg as the other time constraints will be dealt with by time filtering later on."
   ]
  },
  {
   "cell_type": "code",
   "execution_count": 152,
   "metadata": {},
   "outputs": [],
   "source": [
    "constraints = [\n",
    "    AltitudeConstraint(min=20*u.deg),\n",
    "    \n",
    "]"
   ]
  },
  {
   "cell_type": "code",
   "execution_count": 153,
   "metadata": {},
   "outputs": [],
   "source": [
    "is_observable = [\n",
    "    is_event_observable(constraints, observer, ecs[1], mid_transit_times[0])\n",
    "    for ecs, mid_transit_times\n",
    "    in zip(eclipsing_systems, transits)\n",
    "]"
   ]
  },
  {
   "cell_type": "markdown",
   "metadata": {},
   "source": [
    "Now, pick only the systems that are observable"
   ]
  },
  {
   "cell_type": "code",
   "execution_count": 169,
   "metadata": {},
   "outputs": [],
   "source": [
    "visible = [\n",
    "    (ecs[0].name, \n",
    "     (trans[0]-ecs[0].duration/2.0-1*u.hour), trans[0],(trans[0]+ecs[0].duration/2.0+1*u.hour), \n",
    "     to_local(observer, trans[0], location).iso, \n",
    "     ecs[0].duration.value)\n",
    "    for ecs, trans, visible\n",
    "    in zip(eclipsing_systems, transits, is_observable)\n",
    "    if visible and start_time <= trans[0]-ecs[0].duration/2.0-1*u.hour <= trans[0]+ecs[0].duration/2.0+1*u.hour <= end_time\n",
    "]"
   ]
  },
  {
   "cell_type": "code",
   "execution_count": 170,
   "metadata": {},
   "outputs": [],
   "source": [
    "sl = sorted(visible, key=lambda e: e[1])"
   ]
  },
  {
   "cell_type": "code",
   "execution_count": 171,
   "metadata": {},
   "outputs": [
    {
     "data": {
      "text/plain": [
       "<_io.StringIO at 0x29e16164d00>"
      ]
     },
     "execution_count": 171,
     "metadata": {},
     "output_type": "execute_result"
    }
   ],
   "source": [
    "s = StringIO()\n",
    "writer = csv.writer(s)\n",
    "for r in sl:\n",
    "    writer.writerow(r)\n",
    "s"
   ]
  },
  {
   "cell_type": "code",
   "execution_count": 172,
   "metadata": {},
   "outputs": [
    {
     "name": "stdout",
     "output_type": "stream",
     "text": [
      "TOI-4087b,2025-01-02 00:09:58.039268,2025-01-02 02:39:22.039268,2025-01-02 05:08:46.039268,2025-01-01 18:39:22.039,2.98\n",
      "TOI-2025b,2025-01-02 00:30:37.907246,2025-01-02 03:18:55.907246,2025-01-02 06:07:13.907246,2025-01-01 19:18:55.907,3.61\n",
      "XO-4b,2025-01-02 00:35:41.383086,2025-01-02 03:48:35.383086,2025-01-02 07:01:29.383086,2025-01-01 19:48:35.383,4.43\n",
      "WASP-12b,2025-01-02 01:48:51.039333,2025-01-02 04:18:51.039333,2025-01-02 06:48:51.039333,2025-01-01 20:18:51.039,3.0\n",
      "TOI-1442b,2025-01-02 02:26:30.776390,2025-01-02 03:45:24.776390,2025-01-02 05:04:18.776390,2025-01-01 19:45:24.776,0.63\n",
      "K2-141b,2025-01-02 02:29:07.750742,2025-01-02 03:58:31.750742,2025-01-02 05:27:55.750742,2025-01-01 19:58:31.751,0.98\n",
      "WASP-72b,2025-01-02 02:32:06.811894,2025-01-02 05:27:36.811894,2025-01-02 08:23:06.811894,2025-01-01 21:27:36.812,3.85\n",
      "TOI-544b,2025-01-02 03:19:42.262924,2025-01-02 04:54:48.262924,2025-01-02 06:29:54.262924,2025-01-01 20:54:48.263,1.17\n",
      "TOI-2445b,2025-01-02 03:29:52.544650,2025-01-02 04:46:40.544650,2025-01-02 06:03:28.544650,2025-01-01 20:46:40.545,0.56\n",
      "TOI-3629b,2025-01-02 03:32:40.295977,2025-01-02 05:40:10.295977,2025-01-02 07:47:40.295977,2025-01-01 21:40:10.296,2.25\n",
      "HD260655b,2025-01-02 03:56:07.089657,2025-01-02 05:30:01.089657,2025-01-02 07:03:55.089657,2025-01-01 21:30:01.090,1.13\n",
      "KELT-24b,2025-01-02 04:04:03.905010,2025-01-02 07:14:33.905010,2025-01-02 10:25:03.905010,2025-01-01 23:14:33.905,4.35\n",
      "WASP-140b,2025-01-02 04:14:56.650429,2025-01-02 05:58:26.650429,2025-01-02 07:41:56.650429,2025-01-01 21:58:26.650,1.45\n",
      "HD15906b,2025-01-02 04:19:02.260802,2025-01-02 06:13:20.260802,2025-01-02 08:07:38.260802,2025-01-01 22:13:20.261,1.81\n",
      "WASP-76b,2025-01-02 04:23:14.540363,2025-01-02 07:16:56.540363,2025-01-02 10:10:38.540363,2025-01-01 23:16:56.540,3.79\n",
      "HAT-P-68b,2025-01-02 04:46:44.813527,2025-01-02 06:49:44.813527,2025-01-02 08:52:44.813527,2025-01-01 22:49:44.814,2.1\n",
      "TOI-1685b,2025-01-02 05:11:20.872704,2025-01-02 06:38:20.872704,2025-01-02 08:05:20.872704,2025-01-01 22:38:20.873,0.9\n",
      "LHS1478b,2025-01-02 05:58:03.959965,2025-01-02 07:19:21.959965,2025-01-02 08:40:39.959965,2025-01-01 23:19:21.960,0.71\n",
      "WASP-141b,2025-01-02 06:22:42.522395,2025-01-02 09:10:24.522395,2025-01-02 11:58:06.522395,2025-01-02 01:10:24.522,3.59\n",
      "HAT-P-42b,2025-01-02 07:00:30.165694,2025-01-02 10:01:42.165694,2025-01-02 13:02:54.165694,2025-01-02 02:01:42.166,4.04\n",
      "LTT3780b,2025-01-02 07:58:26.708995,2025-01-02 09:22:44.708995,2025-01-02 10:47:02.708995,2025-01-02 01:22:44.709,0.81\n",
      "TOI-564b,2025-01-02 08:04:36.114829,2025-01-02 09:35:48.114829,2025-01-02 11:07:00.114829,2025-01-02 01:35:48.115,1.04\n",
      "TOI-1411b,2025-01-02 08:53:11.812757,2025-01-02 10:38:11.812757,2025-01-02 12:23:11.812757,2025-01-02 02:38:11.813,1.5\n",
      "TOI-2842b,2025-01-02 09:05:57.708117,2025-01-02 11:23:03.708117,2025-01-02 13:40:09.708117,2025-01-02 03:23:03.708,2.5700000000000003\n",
      "TOI-5704b,2025-01-02 09:18:31.874465,2025-01-02 11:33:49.874465,2025-01-02 13:49:07.874465,2025-01-02 03:33:49.874,2.51\n",
      "K2-405b,2025-01-02 09:23:18.261595,2025-01-02 11:38:00.261595,2025-01-02 13:52:42.261595,2025-01-02 03:38:00.262,2.49\n",
      "TOI-1693b,2025-01-02 10:40:09.526396,2025-01-02 12:17:57.526396,2025-01-02 13:55:45.526396,2025-01-02 04:17:57.526,1.26\n",
      "\n"
     ]
    }
   ],
   "source": [
    "s.seek(0)\n",
    "print(s.getvalue())"
   ]
  },
  {
   "cell_type": "markdown",
   "metadata": {},
   "source": [
    "We appear to have mid-transit times that don't quite match any online observation planners. why?"
   ]
  },
  {
   "cell_type": "code",
   "execution_count": 173,
   "metadata": {},
   "outputs": [
    {
     "data": {
      "text/plain": [
       "('KELT-24b',\n",
       " <Time object: scale='utc' format='datetime' value=2025-01-02 04:04:03.905010>,\n",
       " <Time object: scale='utc' format='datetime' value=2025-01-02 07:14:33.905010>,\n",
       " <Time object: scale='utc' format='datetime' value=2025-01-02 10:25:03.905010>,\n",
       " '2025-01-01 23:14:33.905',\n",
       " 4.35)"
      ]
     },
     "execution_count": 173,
     "metadata": {},
     "output_type": "execute_result"
    }
   ],
   "source": [
    "sl[11]"
   ]
  },
  {
   "cell_type": "code",
   "execution_count": 174,
   "metadata": {},
   "outputs": [],
   "source": [
    "def find_loc(name: str) -> EarthLocation:\n",
    "    for e in eclipsing_systems:\n",
    "        if e[0].name == name:\n",
    "            return e[1]\n",
    "    return None"
   ]
  },
  {
   "cell_type": "code",
   "execution_count": 177,
   "metadata": {},
   "outputs": [
    {
     "data": {
      "text/plain": [
       "<FixedTarget \"None\" at SkyCoord (ICRS): (ra, dec) in deg (161.90979583, 71.65587667)>"
      ]
     },
     "execution_count": 177,
     "metadata": {},
     "output_type": "execute_result"
    }
   ],
   "source": [
    "kelt = find_loc(\"KELT-24b\")\n",
    "kelt"
   ]
  },
  {
   "cell_type": "code",
   "execution_count": 183,
   "metadata": {},
   "outputs": [
    {
     "data": {
      "text/latex": [
       "$4.2367925 \\; \\mathrm{min}$"
      ],
      "text/plain": [
       "<Quantity 4.23679254 min>"
      ]
     },
     "execution_count": 183,
     "metadata": {},
     "output_type": "execute_result"
    }
   ],
   "source": [
    "sl[11][2].light_travel_time(kelt.coord, 'barycentric').to(u.minute)"
   ]
  },
  {
   "cell_type": "code",
   "execution_count": 185,
   "metadata": {},
   "outputs": [
    {
     "data": {
      "text/plain": [
       "('TOI-1693b',\n",
       " <Time object: scale='utc' format='datetime' value=2025-01-02 10:40:09.526396>,\n",
       " <Time object: scale='utc' format='datetime' value=2025-01-02 12:17:57.526396>,\n",
       " <Time object: scale='utc' format='datetime' value=2025-01-02 13:55:45.526396>,\n",
       " '2025-01-02 04:17:57.526',\n",
       " 1.26)"
      ]
     },
     "execution_count": 185,
     "metadata": {},
     "output_type": "execute_result"
    }
   ],
   "source": [
    "sl[-1]"
   ]
  },
  {
   "cell_type": "code",
   "execution_count": 186,
   "metadata": {},
   "outputs": [
    {
     "data": {
      "text/latex": [
       "$7.8110204 \\; \\mathrm{min}$"
      ],
      "text/plain": [
       "<Quantity 7.81102036 min>"
      ]
     },
     "execution_count": 186,
     "metadata": {},
     "output_type": "execute_result"
    }
   ],
   "source": [
    "toi = find_loc('TOI-1693b')\n",
    "sl[-1][2].light_travel_time(toi.coord, 'barycentric').to(u.minute)"
   ]
  },
  {
   "cell_type": "markdown",
   "metadata": {},
   "source": [
    "The difference is *exactly* the heliocentric vs barycentric!!!\n",
    "\n",
    "Our calculations appear to be barycentric as they are + light travel times while online tools give us heliocentric times. \n",
    "`astroplan` has a big warning that it does not do any barycentric corrections and that some of the calcs will be sus because of it."
   ]
  },
  {
   "cell_type": "code",
   "execution_count": null,
   "metadata": {},
   "outputs": [],
   "source": []
  }
 ],
 "metadata": {
  "kernelspec": {
   "display_name": "Python 3 (ipykernel)",
   "language": "python",
   "name": "python3"
  },
  "language_info": {
   "codemirror_mode": {
    "name": "ipython",
    "version": 3
   },
   "file_extension": ".py",
   "mimetype": "text/x-python",
   "name": "python",
   "nbconvert_exporter": "python",
   "pygments_lexer": "ipython3",
   "version": "3.12.3"
  }
 },
 "nbformat": 4,
 "nbformat_minor": 2
}
